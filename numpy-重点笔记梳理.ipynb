{
 "cells": [
  {
   "cell_type": "markdown",
   "metadata": {},
   "source": [
    "### numpy基本概念\n",
    "> - 用于数据整理和清理，子集构造和过滤，转换等快速的矢量化数组运算\n",
    "> - 常用的数组算法，比如排序，唯一化，集合运算\n",
    "> - 高效的描述统计和数据聚合个摘要运算\n",
    "> - 异构数据集的合并/连接运算的数据对齐和关系型数据运算\n",
    "> - 数据的分组计算"
   ]
  },
  {
   "cell_type": "markdown",
   "metadata": {},
   "source": [
    "#### 为什么数据处理要用numpy\n",
    "> -Numpy是在一个连续的内存中存储数据，独立于其他的python内置对象，Numpy的c语言编写的算法库可以操作内存，而不必进行类型检查和其他前期工作\n",
    "> - Numpy可以在整个数组上面进行复杂的计算，而不需要python的for循环"
   ]
  },
  {
   "cell_type": "markdown",
   "metadata": {},
   "source": [
    "#### ndarray：多维数组对象\n",
    "> 一个快速灵活的大数据集容器,我们经常说的「数组」，「Numpy数组」，「ndarry」基本指的都是ndarry对象"
   ]
  },
  {
   "cell_type": "markdown",
   "metadata": {},
   "source": [
    "### ndarray&DataFrame&list的相互转化"
   ]
  },
  {
   "cell_type": "code",
   "execution_count": 5,
   "metadata": {},
   "outputs": [
    {
     "name": "stdout",
     "output_type": "stream",
     "text": [
      "   0  1  2\n",
      "0  1  5  8\n",
      "1  3  6  4\n",
      "2  7  5  1\n",
      "<class 'pandas.core.frame.DataFrame'>\n"
     ]
    }
   ],
   "source": [
    "import pandas as pd\n",
    "import numpy as np\n",
    "data = np.array([[1,5,8],[3,6,4],[7,5,1]])\n",
    "df = pd.DataFrame([4,48,5,9])\n",
    "\n",
    "# ndarray --> DataFrame\n",
    "data_df = pd.DataFrame(data)\n",
    "print(data_df)\n",
    "print(type(data_df))"
   ]
  },
  {
   "cell_type": "code",
   "execution_count": 7,
   "metadata": {},
   "outputs": [
    {
     "name": "stdout",
     "output_type": "stream",
     "text": [
      "[[ 4]\n",
      " [48]\n",
      " [ 5]\n",
      " [ 9]]\n",
      "<class 'numpy.ndarray'>\n",
      "<--------方法分割线------->\n",
      "[[ 4]\n",
      " [48]\n",
      " [ 5]\n",
      " [ 9]]\n",
      "<class 'numpy.ndarray'>\n"
     ]
    },
    {
     "name": "stderr",
     "output_type": "stream",
     "text": [
      "D:\\Anaconda\\lib\\site-packages\\ipykernel_launcher.py:8: FutureWarning: Method .as_matrix will be removed in a future version. Use .values instead.\n",
      "  \n"
     ]
    }
   ],
   "source": [
    "# DataFrame/Series -->ndarray\n",
    "# 方法1 .values  记住没有括号\n",
    "data_ndarry = df.values\n",
    "print(data_ndarry)\n",
    "print(type(data_ndarry))\n",
    "print(\"<--------方法分割线------->\")\n",
    "# 方法2：.as_.as_matrix() 此方法正在被逐步淘汰\n",
    "data_ndarry2 = df.as_matrix()\n",
    "print(data_ndarry2)\n",
    "print(type(data_ndarry2))"
   ]
  },
  {
   "cell_type": "code",
   "execution_count": 11,
   "metadata": {},
   "outputs": [
    {
     "name": "stdout",
     "output_type": "stream",
     "text": [
      "   0  1  2\n",
      "0  1  2  3\n",
      "1  4  5  6\n",
      "2  7  7  9\n",
      "<class 'pandas.core.frame.DataFrame'>\n",
      "<--------------分割线------------->\n",
      "[[1 2 3]\n",
      " [4 5 6]\n",
      " [7 7 9]]\n",
      "<class 'numpy.ndarray'>\n"
     ]
    }
   ],
   "source": [
    "# list -->DataFrame/ndarray\n",
    "li = [[1,2,3],[4,5,6],[7,7,9]]\n",
    "li_df = pd.DataFrame(li)\n",
    "print(li_df)\n",
    "print(type(li_df))\n",
    "print(\"<--------------分割线------------->\")\n",
    "li_nda= np.array(li)\n",
    "print(li_nda)\n",
    "print(type(li_nda))"
   ]
  },
  {
   "cell_type": "code",
   "execution_count": 19,
   "metadata": {},
   "outputs": [
    {
     "name": "stdout",
     "output_type": "stream",
     "text": [
      "[[1, 5, 8], [3, 6, 4], [7, 5, 1]]\n",
      "<class 'list'>\n"
     ]
    }
   ],
   "source": [
    "# DataFrame/ndarray --> list\n",
    "\n",
    "# 这里需要注意下：一般没有直接将DF转换成list，\n",
    "# 多半是先转化成ndarray在转化成list,(每一行作为一个列表)\n",
    "df_nda = np.array(data_df)\n",
    "df_li =df_nda.tolist()\n",
    "# 或者 data_df.values.tolist(),可以说是目前最简单的方法\n",
    "print(df_li)\n",
    "print(type(df_li))\n",
    "# 将每行的值作为一个子列表"
   ]
  },
  {
   "cell_type": "code",
   "execution_count": null,
   "metadata": {},
   "outputs": [],
   "source": []
  }
 ],
 "metadata": {
  "kernelspec": {
   "display_name": "Python 3",
   "language": "python",
   "name": "python3"
  },
  "language_info": {
   "codemirror_mode": {
    "name": "ipython",
    "version": 3
   },
   "file_extension": ".py",
   "mimetype": "text/x-python",
   "name": "python",
   "nbconvert_exporter": "python",
   "pygments_lexer": "ipython3",
   "version": "3.7.4"
  },
  "toc": {
   "base_numbering": 1,
   "nav_menu": {},
   "number_sections": true,
   "sideBar": true,
   "skip_h1_title": false,
   "title_cell": "Table of Contents",
   "title_sidebar": "Contents",
   "toc_cell": false,
   "toc_position": {},
   "toc_section_display": true,
   "toc_window_display": true
  }
 },
 "nbformat": 4,
 "nbformat_minor": 2
}
