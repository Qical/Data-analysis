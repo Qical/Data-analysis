{
 "cells": [
  {
   "cell_type": "markdown",
   "metadata": {},
   "source": [
    "### 合并数据集\n",
    "> **pd.merge(left,right,on='key',suffixes=('_left','_right'))的各个参数含义**\n",
    ">- left : 参与合并的左侧DataFrame\n",
    ">- right : 参与合并的右侧的DataFrame\n",
    ">- how ：inner、outer、left、right其中之一，默认是inner\n",
    ">- on : 用于连接的列名。必须存在于左右两个DataFrame对象中\n",
    ">- left_on ：左侧DataFrame 用作连接键的列\n",
    ">- right_on ：右侧DataFrame中用作连接的键\n",
    ">- left_index ：将左侧的索引用作其连接键\n",
    ">- right_index ： 将右侧的的索引用作其连接键\n",
    ">- sort ：根据连接键对合并后的数据进行排序，默认为True，（有时处理大数据集是一般禁用）\n",
    ">- suffixes ：字符串值元祖，用于追加重叠列名的末尾\n",
    ">- copy : 默认设置为False"
   ]
  },
  {
   "cell_type": "markdown",
   "metadata": {},
   "source": [
    "#### 合并的df存在重名的情况"
   ]
  },
  {
   "cell_type": "code",
   "execution_count": 4,
   "metadata": {},
   "outputs": [],
   "source": [
    "import pandas as pd\n",
    "l_df= pd.DataFrame({\n",
    "    'key1':['Shanghai','Beijing','Guangzhou'],\n",
    "     'Key2':[\"Hanzghou\",\"Wuhan\",\"Chengdu\"],\n",
    "    'Value':[45,54,67] \n",
    "        })\n",
    "r_df = pd.DataFrame({\n",
    "    'key1':['Shanghai','Beijing','Chenzhen','Guanzghou'],\n",
    "    'Key2':[\"Hanzghou\",\"Wuhan\",\"Chengdu\",\"Zhengzhou\"],\n",
    "    'Value':[45,45,78,90] \n",
    "})"
   ]
  },
  {
   "cell_type": "code",
   "execution_count": 6,
   "metadata": {},
   "outputs": [
    {
     "data": {
      "text/html": [
       "<div>\n",
       "<style scoped>\n",
       "    .dataframe tbody tr th:only-of-type {\n",
       "        vertical-align: middle;\n",
       "    }\n",
       "\n",
       "    .dataframe tbody tr th {\n",
       "        vertical-align: top;\n",
       "    }\n",
       "\n",
       "    .dataframe thead th {\n",
       "        text-align: right;\n",
       "    }\n",
       "</style>\n",
       "<table border=\"1\" class=\"dataframe\">\n",
       "  <thead>\n",
       "    <tr style=\"text-align: right;\">\n",
       "      <th></th>\n",
       "      <th>key1</th>\n",
       "      <th>Key2_x</th>\n",
       "      <th>Value_x</th>\n",
       "      <th>Key2_y</th>\n",
       "      <th>Value_y</th>\n",
       "    </tr>\n",
       "  </thead>\n",
       "  <tbody>\n",
       "    <tr>\n",
       "      <td>0</td>\n",
       "      <td>Shanghai</td>\n",
       "      <td>Hanzghou</td>\n",
       "      <td>45</td>\n",
       "      <td>Hanzghou</td>\n",
       "      <td>45</td>\n",
       "    </tr>\n",
       "    <tr>\n",
       "      <td>1</td>\n",
       "      <td>Beijing</td>\n",
       "      <td>Wuhan</td>\n",
       "      <td>54</td>\n",
       "      <td>Wuhan</td>\n",
       "      <td>45</td>\n",
       "    </tr>\n",
       "  </tbody>\n",
       "</table>\n",
       "</div>"
      ],
      "text/plain": [
       "       key1    Key2_x  Value_x    Key2_y  Value_y\n",
       "0  Shanghai  Hanzghou       45  Hanzghou       45\n",
       "1   Beijing     Wuhan       54     Wuhan       45"
      ]
     },
     "execution_count": 6,
     "metadata": {},
     "output_type": "execute_result"
    }
   ],
   "source": [
    "pd.merge(l_df,r_df,on='key1')"
   ]
  },
  {
   "cell_type": "markdown",
   "metadata": {},
   "source": [
    "- 我们可以看见l_df和r_df的相同名称的“key2”列分别被加上了“_x”和“_y”,我们可以自己修改"
   ]
  },
  {
   "cell_type": "code",
   "execution_count": 7,
   "metadata": {},
   "outputs": [
    {
     "data": {
      "text/html": [
       "<div>\n",
       "<style scoped>\n",
       "    .dataframe tbody tr th:only-of-type {\n",
       "        vertical-align: middle;\n",
       "    }\n",
       "\n",
       "    .dataframe tbody tr th {\n",
       "        vertical-align: top;\n",
       "    }\n",
       "\n",
       "    .dataframe thead th {\n",
       "        text-align: right;\n",
       "    }\n",
       "</style>\n",
       "<table border=\"1\" class=\"dataframe\">\n",
       "  <thead>\n",
       "    <tr style=\"text-align: right;\">\n",
       "      <th></th>\n",
       "      <th>key1</th>\n",
       "      <th>Key2_左边</th>\n",
       "      <th>Value_左边</th>\n",
       "      <th>Key2_右边</th>\n",
       "      <th>Value_右边</th>\n",
       "    </tr>\n",
       "  </thead>\n",
       "  <tbody>\n",
       "    <tr>\n",
       "      <td>0</td>\n",
       "      <td>Shanghai</td>\n",
       "      <td>Hanzghou</td>\n",
       "      <td>45</td>\n",
       "      <td>Hanzghou</td>\n",
       "      <td>45</td>\n",
       "    </tr>\n",
       "    <tr>\n",
       "      <td>1</td>\n",
       "      <td>Beijing</td>\n",
       "      <td>Wuhan</td>\n",
       "      <td>54</td>\n",
       "      <td>Wuhan</td>\n",
       "      <td>45</td>\n",
       "    </tr>\n",
       "  </tbody>\n",
       "</table>\n",
       "</div>"
      ],
      "text/plain": [
       "       key1   Key2_左边  Value_左边   Key2_右边  Value_右边\n",
       "0  Shanghai  Hanzghou        45  Hanzghou        45\n",
       "1   Beijing     Wuhan        54     Wuhan        45"
      ]
     },
     "execution_count": 7,
     "metadata": {},
     "output_type": "execute_result"
    }
   ],
   "source": [
    "pd.merge(l_df,r_df,on='key1',suffixes =('_左边','_右边'))"
   ]
  },
  {
   "cell_type": "markdown",
   "metadata": {},
   "source": [
    "#### 索引上的合并"
   ]
  },
  {
   "cell_type": "code",
   "execution_count": 10,
   "metadata": {},
   "outputs": [
    {
     "data": {
      "text/html": [
       "<div>\n",
       "<style scoped>\n",
       "    .dataframe tbody tr th:only-of-type {\n",
       "        vertical-align: middle;\n",
       "    }\n",
       "\n",
       "    .dataframe tbody tr th {\n",
       "        vertical-align: top;\n",
       "    }\n",
       "\n",
       "    .dataframe thead th {\n",
       "        text-align: right;\n",
       "    }\n",
       "</style>\n",
       "<table border=\"1\" class=\"dataframe\">\n",
       "  <thead>\n",
       "    <tr style=\"text-align: right;\">\n",
       "      <th></th>\n",
       "      <th>Key2</th>\n",
       "      <th>Value</th>\n",
       "    </tr>\n",
       "  </thead>\n",
       "  <tbody>\n",
       "    <tr>\n",
       "      <td>Shanghai</td>\n",
       "      <td>Hanzghou</td>\n",
       "      <td>45</td>\n",
       "    </tr>\n",
       "    <tr>\n",
       "      <td>Beijing</td>\n",
       "      <td>Wuhan</td>\n",
       "      <td>45</td>\n",
       "    </tr>\n",
       "    <tr>\n",
       "      <td>Chenzhen</td>\n",
       "      <td>Chengdu</td>\n",
       "      <td>78</td>\n",
       "    </tr>\n",
       "    <tr>\n",
       "      <td>Guanzghou</td>\n",
       "      <td>Zhengzhou</td>\n",
       "      <td>90</td>\n",
       "    </tr>\n",
       "  </tbody>\n",
       "</table>\n",
       "</div>"
      ],
      "text/plain": [
       "                Key2  Value\n",
       "Shanghai    Hanzghou     45\n",
       "Beijing        Wuhan     45\n",
       "Chenzhen     Chengdu     78\n",
       "Guanzghou  Zhengzhou     90"
      ]
     },
     "execution_count": 10,
     "metadata": {},
     "output_type": "execute_result"
    }
   ],
   "source": [
    "# 这个主要使用在表格的连接列出现在索引中的情况\n",
    "r_df = pd.DataFrame({\n",
    "    'Key2':[\"Hanzghou\",\"Wuhan\",\"Chengdu\",\"Zhengzhou\"],\n",
    "    'Value':[45,45,78,90] \n",
    "},index = ['Shanghai','Beijing','Chenzhen','Guanzghou'])\n",
    "r_df"
   ]
  },
  {
   "cell_type": "code",
   "execution_count": 11,
   "metadata": {},
   "outputs": [
    {
     "data": {
      "text/html": [
       "<div>\n",
       "<style scoped>\n",
       "    .dataframe tbody tr th:only-of-type {\n",
       "        vertical-align: middle;\n",
       "    }\n",
       "\n",
       "    .dataframe tbody tr th {\n",
       "        vertical-align: top;\n",
       "    }\n",
       "\n",
       "    .dataframe thead th {\n",
       "        text-align: right;\n",
       "    }\n",
       "</style>\n",
       "<table border=\"1\" class=\"dataframe\">\n",
       "  <thead>\n",
       "    <tr style=\"text-align: right;\">\n",
       "      <th></th>\n",
       "      <th>key1</th>\n",
       "      <th>Key2_x</th>\n",
       "      <th>Value_x</th>\n",
       "      <th>Key2_y</th>\n",
       "      <th>Value_y</th>\n",
       "    </tr>\n",
       "  </thead>\n",
       "  <tbody>\n",
       "    <tr>\n",
       "      <td>0</td>\n",
       "      <td>Shanghai</td>\n",
       "      <td>Hanzghou</td>\n",
       "      <td>45</td>\n",
       "      <td>Hanzghou</td>\n",
       "      <td>45</td>\n",
       "    </tr>\n",
       "    <tr>\n",
       "      <td>1</td>\n",
       "      <td>Beijing</td>\n",
       "      <td>Wuhan</td>\n",
       "      <td>54</td>\n",
       "      <td>Wuhan</td>\n",
       "      <td>45</td>\n",
       "    </tr>\n",
       "  </tbody>\n",
       "</table>\n",
       "</div>"
      ],
      "text/plain": [
       "       key1    Key2_x  Value_x    Key2_y  Value_y\n",
       "0  Shanghai  Hanzghou       45  Hanzghou       45\n",
       "1   Beijing     Wuhan       54     Wuhan       45"
      ]
     },
     "execution_count": 11,
     "metadata": {},
     "output_type": "execute_result"
    }
   ],
   "source": [
    "pd.merge(l_df,r_df,left_on='key1',right_index = True)"
   ]
  },
  {
   "cell_type": "markdown",
   "metadata": {},
   "source": [
    "###  轴向连接\n",
    "> 轴向连接更多的理解是组合表，这里就不需要字段一一对应关系，单纯的多合一\n",
    ">- objs : 参与连接的pandas对象的列表或者字典，唯一的必须参数\n",
    ">- axis : 指明连接的轴向，默认为0\n",
    ">- join ：“inner”交集，“outer”并集，默认是并集\n",
    ">- join_axes ：指明用于其他n-1条轴的索引，不执行交并集计算\n",
    ">- keys : 用于形成层次化索引，简单书就是给连接的区域做个区分，下面举例\n",
    ">- levels：如果设置了keys的话，指定用作层次化索引各级别上的索引\n",
    ">- names: 用于创建分层级别的名称，如果设置了Keys或者levels的话\n",
    ">- verify_integrity：检查结果对象新轴上的重复情况，如果发现则引发异常，默认False\n",
    ">- ignore_index ：不保留连接轴上的索引，产生一组新的索引"
   ]
  },
  {
   "cell_type": "code",
   "execution_count": 15,
   "metadata": {},
   "outputs": [
    {
     "data": {
      "text/html": [
       "<div>\n",
       "<style scoped>\n",
       "    .dataframe tbody tr th:only-of-type {\n",
       "        vertical-align: middle;\n",
       "    }\n",
       "\n",
       "    .dataframe tbody tr th {\n",
       "        vertical-align: top;\n",
       "    }\n",
       "\n",
       "    .dataframe thead tr th {\n",
       "        text-align: left;\n",
       "    }\n",
       "</style>\n",
       "<table border=\"1\" class=\"dataframe\">\n",
       "  <thead>\n",
       "    <tr>\n",
       "      <th></th>\n",
       "      <th colspan=\"2\" halign=\"left\">level1</th>\n",
       "      <th colspan=\"2\" halign=\"left\">level2</th>\n",
       "    </tr>\n",
       "    <tr>\n",
       "      <th></th>\n",
       "      <th>Shanghai</th>\n",
       "      <th>Beijing</th>\n",
       "      <th>Guangdong</th>\n",
       "      <th>Chenzhen</th>\n",
       "    </tr>\n",
       "  </thead>\n",
       "  <tbody>\n",
       "    <tr>\n",
       "      <td>a</td>\n",
       "      <td>0</td>\n",
       "      <td>1</td>\n",
       "      <td>7.0</td>\n",
       "      <td>8.0</td>\n",
       "    </tr>\n",
       "    <tr>\n",
       "      <td>b</td>\n",
       "      <td>2</td>\n",
       "      <td>3</td>\n",
       "      <td>NaN</td>\n",
       "      <td>NaN</td>\n",
       "    </tr>\n",
       "    <tr>\n",
       "      <td>c</td>\n",
       "      <td>4</td>\n",
       "      <td>5</td>\n",
       "      <td>9.0</td>\n",
       "      <td>10.0</td>\n",
       "    </tr>\n",
       "  </tbody>\n",
       "</table>\n",
       "</div>"
      ],
      "text/plain": [
       "    level1            level2         \n",
       "  Shanghai Beijing Guangdong Chenzhen\n",
       "a        0       1       7.0      8.0\n",
       "b        2       3       NaN      NaN\n",
       "c        4       5       9.0     10.0"
      ]
     },
     "execution_count": 15,
     "metadata": {},
     "output_type": "execute_result"
    }
   ],
   "source": [
    "import numpy as np\n",
    "import pandas as pd\n",
    "df1 = pd.DataFrame(np.arange(6).reshape(3,2),index = ['a','b','c'],\n",
    "                  columns = ['Shanghai',\"Beijing\"])\n",
    "df2 = pd.DataFrame(np.arange(7,11).reshape(2,2),index = ['a','c'],\n",
    "                  columns = [\"Guangdong\",\"Chenzhen\"])\n",
    "pd.concat([df1,df2],axis=1,keys = ['level1','level2'],sort = False)"
   ]
  },
  {
   "cell_type": "markdown",
   "metadata": {},
   "source": [
    "> 这里可以看见df1和df2分别被用level1和level2区分开了"
   ]
  },
  {
   "cell_type": "code",
   "execution_count": 17,
   "metadata": {},
   "outputs": [
    {
     "data": {
      "text/html": [
       "<div>\n",
       "<style scoped>\n",
       "    .dataframe tbody tr th:only-of-type {\n",
       "        vertical-align: middle;\n",
       "    }\n",
       "\n",
       "    .dataframe tbody tr th {\n",
       "        vertical-align: top;\n",
       "    }\n",
       "\n",
       "    .dataframe thead tr th {\n",
       "        text-align: left;\n",
       "    }\n",
       "</style>\n",
       "<table border=\"1\" class=\"dataframe\">\n",
       "  <thead>\n",
       "    <tr>\n",
       "      <th>upper</th>\n",
       "      <th colspan=\"2\" halign=\"left\">level1</th>\n",
       "      <th colspan=\"2\" halign=\"left\">level2</th>\n",
       "    </tr>\n",
       "    <tr>\n",
       "      <th>lower</th>\n",
       "      <th>Shanghai</th>\n",
       "      <th>Beijing</th>\n",
       "      <th>Guangdong</th>\n",
       "      <th>Chenzhen</th>\n",
       "    </tr>\n",
       "  </thead>\n",
       "  <tbody>\n",
       "    <tr>\n",
       "      <td>a</td>\n",
       "      <td>0</td>\n",
       "      <td>1</td>\n",
       "      <td>7.0</td>\n",
       "      <td>8.0</td>\n",
       "    </tr>\n",
       "    <tr>\n",
       "      <td>b</td>\n",
       "      <td>2</td>\n",
       "      <td>3</td>\n",
       "      <td>NaN</td>\n",
       "      <td>NaN</td>\n",
       "    </tr>\n",
       "    <tr>\n",
       "      <td>c</td>\n",
       "      <td>4</td>\n",
       "      <td>5</td>\n",
       "      <td>9.0</td>\n",
       "      <td>10.0</td>\n",
       "    </tr>\n",
       "  </tbody>\n",
       "</table>\n",
       "</div>"
      ],
      "text/plain": [
       "upper   level1            level2         \n",
       "lower Shanghai Beijing Guangdong Chenzhen\n",
       "a            0       1       7.0      8.0\n",
       "b            2       3       NaN      NaN\n",
       "c            4       5       9.0     10.0"
      ]
     },
     "execution_count": 17,
     "metadata": {},
     "output_type": "execute_result"
    }
   ],
   "source": [
    "pd.concat([df1,df2],axis =1,keys = [\"level1\",\"level2\"],\n",
    "         names = ['upper',\"lower\"],\n",
    "         sort =False)"
   ]
  },
  {
   "cell_type": "markdown",
   "metadata": {},
   "source": [
    "### 合并补丁数据\n",
    "> 这个叫法也不知道是否同意，比如说我们有一张总表数据存在很多缺失，我们根据每天生成的小表根据索引去弥补这些缺失的数据，有数据的地方保持不变，填充缺值"
   ]
  },
  {
   "cell_type": "code",
   "execution_count": 23,
   "metadata": {},
   "outputs": [
    {
     "data": {
      "text/plain": [
       "array([0. , 2.6, 2. , 3.6, 4.6, nan])"
      ]
     },
     "execution_count": 23,
     "metadata": {},
     "output_type": "execute_result"
    }
   ],
   "source": [
    "a = pd.Series([np.nan,2.6,np.nan,3.6,4.6,np.nan],\n",
    "             index =['f','e','d','c','b','a'])\n",
    "b = pd.Series(np.arange(len(a)),dtype =np.float64,index = ['f','e','d','c','b','a'])\n",
    "b[-1] =np.nan\n",
    "\n",
    "# 方法一：使用where的方法\n",
    "np.where(pd.isnull(a),b,a)"
   ]
  },
  {
   "cell_type": "code",
   "execution_count": 24,
   "metadata": {},
   "outputs": [
    {
     "data": {
      "text/plain": [
       "a    NaN\n",
       "b    4.6\n",
       "c    3.0\n",
       "d    2.0\n",
       "e    1.0\n",
       "f    0.0\n",
       "dtype: float64"
      ]
     },
     "execution_count": 24,
     "metadata": {},
     "output_type": "execute_result"
    }
   ],
   "source": [
    "#  f方法2 ：combine_first方法，实现一样的功能，而且会进行数据的对齐\n",
    "b[:-2].combine_first(a[2:])"
   ]
  },
  {
   "cell_type": "code",
   "execution_count": null,
   "metadata": {},
   "outputs": [],
   "source": []
  }
 ],
 "metadata": {
  "kernelspec": {
   "display_name": "Python 3",
   "language": "python",
   "name": "python3"
  },
  "language_info": {
   "codemirror_mode": {
    "name": "ipython",
    "version": 3
   },
   "file_extension": ".py",
   "mimetype": "text/x-python",
   "name": "python",
   "nbconvert_exporter": "python",
   "pygments_lexer": "ipython3",
   "version": "3.7.4"
  },
  "toc": {
   "base_numbering": 1,
   "nav_menu": {},
   "number_sections": true,
   "sideBar": true,
   "skip_h1_title": false,
   "title_cell": "Table of Contents",
   "title_sidebar": "Contents",
   "toc_cell": false,
   "toc_position": {},
   "toc_section_display": true,
   "toc_window_display": false
  }
 },
 "nbformat": 4,
 "nbformat_minor": 2
}
